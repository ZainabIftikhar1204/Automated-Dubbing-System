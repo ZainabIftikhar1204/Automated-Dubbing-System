{
  "nbformat": 4,
  "nbformat_minor": 0,
  "metadata": {
    "colab": {
      "name": "encoder_decoder with dif dataset.ipynb",
      "provenance": [],
      "collapsed_sections": [
        "_47fr62dEWnj",
        "sd0nx8p_EZDq"
      ]
    },
    "kernelspec": {
      "name": "python3",
      "display_name": "Python 3"
    },
    "language_info": {
      "name": "python"
    }
  },
  "cells": [
    {
      "cell_type": "code",
      "source": [
        "#with datafrane\n",
        "import pandas as pd\n",
        "import tensorflow as tf\n",
        "\n",
        "colnames = ['source', 'tar', 'gib']\n",
        "data_df = pd.read_csv('/content/trans.txt', sep='\\t', names=colnames)\n",
        "final_df = data_df[['source', 'tar']]\n",
        "print(final_df.head(1))\n",
        "\n",
        "data_df = data_df[['source', 'target']]\n",
        "\n",
        "source_sentences = []\n",
        "target_sentences = []\n",
        "\n",
        "for index, row in data_df.iterrows():\n",
        "  src, tar = row[0], row[1]\n",
        "  source_sentences.append(src)\n",
        "  target_sentences.append(tar)"
      ],
      "metadata": {
        "colab": {
          "base_uri": "https://localhost:8080/"
        },
        "id": "Zap6ezEQE6ds",
        "outputId": "ab29904f-cc83-46a4-8d2b-c6c9bd59832d"
      },
      "execution_count": null,
      "outputs": [
        {
          "output_type": "stream",
          "name": "stdout",
          "text": [
            "  source    tar\n",
            "0    Hi.  سلام۔\n"
          ]
        }
      ]
    },
    {
      "cell_type": "code",
      "source": [
        "print(final_df.head(112))"
      ],
      "metadata": {
        "colab": {
          "base_uri": "https://localhost:8080/"
        },
        "id": "eaUi2BmPdsqK",
        "outputId": "e6c65fcd-1550-4d8a-c6a4-ad5d85748e0d"
      },
      "execution_count": null,
      "outputs": [
        {
          "output_type": "stream",
          "name": "stdout",
          "text": [
            "             source                      tar\n",
            "0               Hi.                    سلام۔\n",
            "1             Help!                     مدد۔\n",
            "2           Thanks.                   شکریہ۔\n",
            "3           We won.              ہم جیت گئے۔\n",
            "4          Beat it.               بھاگ جائو۔\n",
            "..              ...                      ...\n",
            "107  It won't work.      یہ کام نہیں کرے گا۔\n",
            "108  Tom hates you.  ٹام تم سے نفرت کرتا ہے۔\n",
            "109  Tom hates you.  ٹام آپ سے نفرت کرتا ہے۔\n",
            "110  Tom's strange.             ٹام عجیب ہے۔\n",
            "111  Tom's trapped.        ٹام پھنسا ہوا ہے۔\n",
            "\n",
            "[112 rows x 2 columns]\n"
          ]
        }
      ]
    },
    {
      "cell_type": "code",
      "execution_count": null,
      "metadata": {
        "id": "POzc99LvZNcr"
      },
      "outputs": [],
      "source": [
        "import string\n",
        "import numpy as np\n",
        "\n",
        "from keras.preprocessing.text import Tokenizer\n",
        "from keras.preprocessing.sequence import pad_sequences\n",
        "from keras.models import Model\n",
        "from keras.layers import LSTM, Input, TimeDistributed, Dense, Activation, RepeatVector, Embedding\n",
        "from tensorflow.keras.optimizers import Adam\n",
        "from keras.losses import sparse_categorical_crossentropy\n",
        "\n",
        "# Path to translation file\n",
        "path_to_data = '/content/trans.txt'\n",
        "\n",
        "# Read file\n",
        "translation_file = open(path_to_data,\"r\", encoding='utf-8') \n",
        "raw_data = translation_file.read()\n",
        "translation_file.close()\n",
        "\n",
        "# Parse data\n",
        "raw_data = raw_data.split('\\n')\n",
        "pairs = [sentence.split('.') for sentence in  raw_data]\n"
      ]
    },
    {
      "cell_type": "code",
      "source": [
        "def clean_sentence(sentence):\n",
        "    # Lower case the sentence\n",
        "    lower_case_sent = sentence.lower()\n",
        "    # Strip punctuation\n",
        "    string_punctuation = string.punctuation + \"¡\" + '¿'\n",
        "    clean_sentence = lower_case_sent.translate(str.maketrans('', '', \n",
        "                                                        string_punctuation))\n",
        "   \n",
        "    return clean_sentence"
      ],
      "metadata": {
        "id": "UHSIon4rae5n"
      },
      "execution_count": null,
      "outputs": []
    },
    {
      "cell_type": "code",
      "source": [
        "def tokenize(sentences):\n",
        "    # Create tokenizer\n",
        "    text_tokenizer = Tokenizer()\n",
        "    # Fit texts\n",
        "    text_tokenizer.fit_on_texts(sentences)\n",
        "    return text_tokenizer.texts_to_sequences(sentences), text_tokenizer"
      ],
      "metadata": {
        "id": "Z_34z3i-alH1"
      },
      "execution_count": null,
      "outputs": []
    },
    {
      "cell_type": "code",
      "source": [
        "# Clean sentences\n",
        "#english_sentences = [clean_sentence(pair) for pair in source_sentences]\n",
        "#urdu_sentences = [clean_sentence(peir) for peir in target_sentences]\n",
        "\n",
        "english_sentences = source_sentences\n",
        "urdu_sentences = target_sentences\n",
        "\n",
        "# Tokenize words\n",
        "urd_text_tokenized, urd_text_tokenizer = tokenize(urdu_sentences)\n",
        "eng_text_tokenized, eng_text_tokenizer = tokenize(english_sentences)\n",
        "\n",
        "print('Maximum length urdu sentence: {}'.format(len(max(urd_text_tokenized,\n",
        "                                                        key=len))))\n",
        "print('Maximum length english sentence: {}'.format(len(max(eng_text_tokenized,\n",
        "                                                           key=len))))\n",
        "\n",
        "\n",
        "# Check language length\n",
        "urdu_vocab = len(urd_text_tokenizer.word_index) + 1\n",
        "english_vocab = len(eng_text_tokenizer.word_index) + 1\n",
        "print(\"urdu vocabulary is of {} unique words\".format(urdu_vocab))\n",
        "print(\"English vocabulary is of {} unique words\".format(english_vocab))\n"
      ],
      "metadata": {
        "colab": {
          "base_uri": "https://localhost:8080/"
        },
        "id": "K00P5WiTao3q",
        "outputId": "01a0f277-889d-4ad9-96af-6c9498f9906a"
      },
      "execution_count": null,
      "outputs": [
        {
          "output_type": "stream",
          "name": "stdout",
          "text": [
            "Maximum length urdu sentence: 21\n",
            "Maximum length english sentence: 18\n",
            "urdu vocabulary is of 1696 unique words\n",
            "English vocabulary is of 1326 unique words\n"
          ]
        }
      ]
    },
    {
      "cell_type": "code",
      "source": [
        "max_urdu_len = int(len(max(urd_text_tokenized,key=len)))\n",
        "max_english_len = int(len(max(eng_text_tokenized,key=len)))\n",
        "\n",
        "urd_pad_sentence = pad_sequences(urd_text_tokenized, max_urdu_len,\n",
        "                                 padding = \"post\")\n",
        "eng_pad_sentence = pad_sequences(eng_text_tokenized, max_english_len, \n",
        "                                 padding = \"post\")\n",
        "\n",
        "# Reshape data\n",
        "urd_pad_sentence = urd_pad_sentence.reshape(*urd_pad_sentence.shape, 1)\n",
        "eng_pad_sentence = eng_pad_sentence.reshape(*eng_pad_sentence.shape, 1)"
      ],
      "metadata": {
        "id": "y7JiDwwggok1"
      },
      "execution_count": null,
      "outputs": []
    },
    {
      "cell_type": "code",
      "source": [
        "input_sequence = Input(shape=(max_english_len,))\n",
        "embedding = Embedding(input_dim=english_vocab, output_dim=128,) (input_sequence)\n",
        "encoder = LSTM(64, return_sequences=False)                   (embedding)\n",
        "r_vec = RepeatVector(max_urdu_len)                        (encoder)\n",
        "decoder = LSTM(64, return_sequences=True, dropout=0.2)       (r_vec)\n",
        "logits = TimeDistributed(Dense(urdu_vocab))               (decoder)\n"
      ],
      "metadata": {
        "id": "TCWFJx-WhJRm"
      },
      "execution_count": null,
      "outputs": []
    },
    {
      "cell_type": "code",
      "source": [
        "enc_dec_model = Model(input_sequence, Activation('softmax')  (logits))\n",
        "enc_dec_model.compile(loss=sparse_categorical_crossentropy,\n",
        "              optimizer=Adam(1e-3),\n",
        "              metrics=['accuracy'])\n",
        "enc_dec_model.summary()"
      ],
      "metadata": {
        "colab": {
          "base_uri": "https://localhost:8080/"
        },
        "id": "KKficcyHib8a",
        "outputId": "4f34a327-af79-48b6-b670-445cea512e09"
      },
      "execution_count": null,
      "outputs": [
        {
          "output_type": "stream",
          "name": "stdout",
          "text": [
            "Model: \"model_1\"\n",
            "_________________________________________________________________\n",
            " Layer (type)                Output Shape              Param #   \n",
            "=================================================================\n",
            " input_3 (InputLayer)        [(None, 18)]              0         \n",
            "                                                                 \n",
            " embedding_2 (Embedding)     (None, 18, 128)           169728    \n",
            "                                                                 \n",
            " lstm_4 (LSTM)               (None, 64)                49408     \n",
            "                                                                 \n",
            " repeat_vector_2 (RepeatVect  (None, 21, 64)           0         \n",
            " or)                                                             \n",
            "                                                                 \n",
            " lstm_5 (LSTM)               (None, 21, 64)            33024     \n",
            "                                                                 \n",
            " time_distributed_2 (TimeDis  (None, 21, 1696)         110240    \n",
            " tributed)                                                       \n",
            "                                                                 \n",
            " activation_1 (Activation)   (None, 21, 1696)          0         \n",
            "                                                                 \n",
            "=================================================================\n",
            "Total params: 362,400\n",
            "Trainable params: 362,400\n",
            "Non-trainable params: 0\n",
            "_________________________________________________________________\n"
          ]
        }
      ]
    },
    {
      "cell_type": "code",
      "source": [
        "model_results = enc_dec_model.fit(eng_pad_sentence, \n",
        "                                  urd_pad_sentence, \n",
        "                                  batch_size=15, epochs=100)\n"
      ],
      "metadata": {
        "colab": {
          "base_uri": "https://localhost:8080/"
        },
        "id": "dbmA-USQiixc",
        "outputId": "b1d84592-1a16-4c8b-b637-f33faee28fd5"
      },
      "execution_count": null,
      "outputs": [
        {
          "output_type": "stream",
          "name": "stdout",
          "text": [
            "Epoch 1/100\n",
            "77/77 [==============================] - 3s 37ms/step - loss: 0.5178 - accuracy: 0.8684\n",
            "Epoch 2/100\n",
            "77/77 [==============================] - 3s 37ms/step - loss: 0.5127 - accuracy: 0.8706\n",
            "Epoch 3/100\n",
            "77/77 [==============================] - 3s 38ms/step - loss: 0.5127 - accuracy: 0.8682\n",
            "Epoch 4/100\n",
            "77/77 [==============================] - 3s 37ms/step - loss: 0.5128 - accuracy: 0.8673\n",
            "Epoch 5/100\n",
            "77/77 [==============================] - 3s 38ms/step - loss: 0.5072 - accuracy: 0.8691\n",
            "Epoch 6/100\n",
            "77/77 [==============================] - 3s 38ms/step - loss: 0.5110 - accuracy: 0.8668\n",
            "Epoch 7/100\n",
            "77/77 [==============================] - 3s 37ms/step - loss: 0.5073 - accuracy: 0.8701\n",
            "Epoch 8/100\n",
            "77/77 [==============================] - 3s 38ms/step - loss: 0.5105 - accuracy: 0.8669\n",
            "Epoch 9/100\n",
            "77/77 [==============================] - 3s 38ms/step - loss: 0.5042 - accuracy: 0.8695\n",
            "Epoch 10/100\n",
            "77/77 [==============================] - 3s 37ms/step - loss: 0.4955 - accuracy: 0.8731\n",
            "Epoch 11/100\n",
            "77/77 [==============================] - 3s 38ms/step - loss: 0.5024 - accuracy: 0.8692\n",
            "Epoch 12/100\n",
            "77/77 [==============================] - 3s 38ms/step - loss: 0.4976 - accuracy: 0.8718\n",
            "Epoch 13/100\n",
            "77/77 [==============================] - 3s 37ms/step - loss: 0.4923 - accuracy: 0.8712\n",
            "Epoch 14/100\n",
            "77/77 [==============================] - 3s 37ms/step - loss: 0.4893 - accuracy: 0.8729\n",
            "Epoch 15/100\n",
            "77/77 [==============================] - 3s 37ms/step - loss: 0.4897 - accuracy: 0.8720\n",
            "Epoch 16/100\n",
            "77/77 [==============================] - 3s 37ms/step - loss: 0.4854 - accuracy: 0.8736\n",
            "Epoch 17/100\n",
            "77/77 [==============================] - 3s 38ms/step - loss: 0.4863 - accuracy: 0.8748\n",
            "Epoch 18/100\n",
            "77/77 [==============================] - 3s 38ms/step - loss: 0.4794 - accuracy: 0.8770\n",
            "Epoch 19/100\n",
            "77/77 [==============================] - 3s 38ms/step - loss: 0.4853 - accuracy: 0.8739\n",
            "Epoch 20/100\n",
            "77/77 [==============================] - 3s 38ms/step - loss: 0.4792 - accuracy: 0.8745\n",
            "Epoch 21/100\n",
            "77/77 [==============================] - 3s 38ms/step - loss: 0.4757 - accuracy: 0.8770\n",
            "Epoch 22/100\n",
            "77/77 [==============================] - 3s 37ms/step - loss: 0.4716 - accuracy: 0.8784\n",
            "Epoch 23/100\n",
            "77/77 [==============================] - 3s 38ms/step - loss: 0.4728 - accuracy: 0.8786\n",
            "Epoch 24/100\n",
            "77/77 [==============================] - 3s 38ms/step - loss: 0.4692 - accuracy: 0.8770\n",
            "Epoch 25/100\n",
            "77/77 [==============================] - 3s 39ms/step - loss: 0.4691 - accuracy: 0.8783\n",
            "Epoch 26/100\n",
            "77/77 [==============================] - 3s 39ms/step - loss: 0.4717 - accuracy: 0.8778\n",
            "Epoch 27/100\n",
            "77/77 [==============================] - 3s 38ms/step - loss: 0.4681 - accuracy: 0.8778\n",
            "Epoch 28/100\n",
            "77/77 [==============================] - 3s 38ms/step - loss: 0.4632 - accuracy: 0.8795\n",
            "Epoch 29/100\n",
            "77/77 [==============================] - 3s 38ms/step - loss: 0.4694 - accuracy: 0.8786\n",
            "Epoch 30/100\n",
            "77/77 [==============================] - 3s 37ms/step - loss: 0.4647 - accuracy: 0.8798\n",
            "Epoch 31/100\n",
            "77/77 [==============================] - 3s 37ms/step - loss: 0.4586 - accuracy: 0.8802\n",
            "Epoch 32/100\n",
            "77/77 [==============================] - 3s 38ms/step - loss: 0.4567 - accuracy: 0.8824\n",
            "Epoch 33/100\n",
            "77/77 [==============================] - 3s 37ms/step - loss: 0.4508 - accuracy: 0.8821\n",
            "Epoch 34/100\n",
            "77/77 [==============================] - 3s 38ms/step - loss: 0.4515 - accuracy: 0.8837\n",
            "Epoch 35/100\n",
            "77/77 [==============================] - 3s 37ms/step - loss: 0.4550 - accuracy: 0.8811\n",
            "Epoch 36/100\n",
            "77/77 [==============================] - 3s 38ms/step - loss: 0.4488 - accuracy: 0.8838\n",
            "Epoch 37/100\n",
            "77/77 [==============================] - 3s 38ms/step - loss: 0.4495 - accuracy: 0.8823\n",
            "Epoch 38/100\n",
            "77/77 [==============================] - 3s 37ms/step - loss: 0.4444 - accuracy: 0.8839\n",
            "Epoch 39/100\n",
            "77/77 [==============================] - 3s 38ms/step - loss: 0.4428 - accuracy: 0.8848\n",
            "Epoch 40/100\n",
            "77/77 [==============================] - 3s 38ms/step - loss: 0.4437 - accuracy: 0.8848\n",
            "Epoch 41/100\n",
            "77/77 [==============================] - 3s 37ms/step - loss: 0.4401 - accuracy: 0.8849\n",
            "Epoch 42/100\n",
            "77/77 [==============================] - 3s 37ms/step - loss: 0.4377 - accuracy: 0.8869\n",
            "Epoch 43/100\n",
            "77/77 [==============================] - 3s 37ms/step - loss: 0.4400 - accuracy: 0.8873\n",
            "Epoch 44/100\n",
            "77/77 [==============================] - 3s 37ms/step - loss: 0.4407 - accuracy: 0.8844\n",
            "Epoch 45/100\n",
            "77/77 [==============================] - 3s 37ms/step - loss: 0.4502 - accuracy: 0.8827\n",
            "Epoch 46/100\n",
            "77/77 [==============================] - 3s 37ms/step - loss: 0.4475 - accuracy: 0.8822\n",
            "Epoch 47/100\n",
            "77/77 [==============================] - 3s 37ms/step - loss: 0.4358 - accuracy: 0.8856\n",
            "Epoch 48/100\n",
            "77/77 [==============================] - 3s 37ms/step - loss: 0.4252 - accuracy: 0.8888\n",
            "Epoch 49/100\n",
            "77/77 [==============================] - 3s 36ms/step - loss: 0.4249 - accuracy: 0.8898\n",
            "Epoch 50/100\n",
            "77/77 [==============================] - 3s 37ms/step - loss: 0.4242 - accuracy: 0.8885\n",
            "Epoch 51/100\n",
            "77/77 [==============================] - 3s 36ms/step - loss: 0.4278 - accuracy: 0.8878\n",
            "Epoch 52/100\n",
            "77/77 [==============================] - 3s 36ms/step - loss: 0.4249 - accuracy: 0.8893\n",
            "Epoch 53/100\n",
            "77/77 [==============================] - 3s 37ms/step - loss: 0.4222 - accuracy: 0.8902\n",
            "Epoch 54/100\n",
            "77/77 [==============================] - 3s 36ms/step - loss: 0.4229 - accuracy: 0.8909\n",
            "Epoch 55/100\n",
            "77/77 [==============================] - 3s 37ms/step - loss: 0.4134 - accuracy: 0.8917\n",
            "Epoch 56/100\n",
            "77/77 [==============================] - 3s 36ms/step - loss: 0.4133 - accuracy: 0.8938\n",
            "Epoch 57/100\n",
            "77/77 [==============================] - 3s 36ms/step - loss: 0.4149 - accuracy: 0.8925\n",
            "Epoch 58/100\n",
            "77/77 [==============================] - 3s 36ms/step - loss: 0.4138 - accuracy: 0.8908\n",
            "Epoch 59/100\n",
            "77/77 [==============================] - 3s 36ms/step - loss: 0.4113 - accuracy: 0.8906\n",
            "Epoch 60/100\n",
            "77/77 [==============================] - 3s 38ms/step - loss: 0.4077 - accuracy: 0.8920\n",
            "Epoch 61/100\n",
            "77/77 [==============================] - 3s 37ms/step - loss: 0.4093 - accuracy: 0.8917\n",
            "Epoch 62/100\n",
            "77/77 [==============================] - 3s 37ms/step - loss: 0.4100 - accuracy: 0.8903\n",
            "Epoch 63/100\n",
            "77/77 [==============================] - 3s 37ms/step - loss: 0.4088 - accuracy: 0.8915\n",
            "Epoch 64/100\n",
            "77/77 [==============================] - 3s 38ms/step - loss: 0.4091 - accuracy: 0.8925\n",
            "Epoch 65/100\n",
            "77/77 [==============================] - 3s 38ms/step - loss: 0.4113 - accuracy: 0.8908\n",
            "Epoch 66/100\n",
            "77/77 [==============================] - 3s 37ms/step - loss: 0.4022 - accuracy: 0.8935\n",
            "Epoch 67/100\n",
            "77/77 [==============================] - 3s 38ms/step - loss: 0.3989 - accuracy: 0.8945\n",
            "Epoch 68/100\n",
            "77/77 [==============================] - 3s 37ms/step - loss: 0.3968 - accuracy: 0.8964\n",
            "Epoch 69/100\n",
            "77/77 [==============================] - 3s 38ms/step - loss: 0.3992 - accuracy: 0.8951\n",
            "Epoch 70/100\n",
            "77/77 [==============================] - 3s 38ms/step - loss: 0.3927 - accuracy: 0.8997\n",
            "Epoch 71/100\n",
            "77/77 [==============================] - 3s 38ms/step - loss: 0.3987 - accuracy: 0.8941\n",
            "Epoch 72/100\n",
            "77/77 [==============================] - 3s 37ms/step - loss: 0.3906 - accuracy: 0.8970\n",
            "Epoch 73/100\n",
            "77/77 [==============================] - 3s 37ms/step - loss: 0.3907 - accuracy: 0.8973\n",
            "Epoch 74/100\n",
            "77/77 [==============================] - 3s 37ms/step - loss: 0.3883 - accuracy: 0.8977\n",
            "Epoch 75/100\n",
            "77/77 [==============================] - 3s 37ms/step - loss: 0.3867 - accuracy: 0.8977\n",
            "Epoch 76/100\n",
            "77/77 [==============================] - 3s 37ms/step - loss: 0.3843 - accuracy: 0.8975\n",
            "Epoch 77/100\n",
            "77/77 [==============================] - 3s 37ms/step - loss: 0.3811 - accuracy: 0.8999\n",
            "Epoch 78/100\n",
            "77/77 [==============================] - 3s 37ms/step - loss: 0.3835 - accuracy: 0.8991\n",
            "Epoch 79/100\n",
            "77/77 [==============================] - 3s 37ms/step - loss: 0.3847 - accuracy: 0.8991\n",
            "Epoch 80/100\n",
            "77/77 [==============================] - 3s 38ms/step - loss: 0.3877 - accuracy: 0.8972\n",
            "Epoch 81/100\n",
            "77/77 [==============================] - 3s 38ms/step - loss: 0.3868 - accuracy: 0.8976\n",
            "Epoch 82/100\n",
            "77/77 [==============================] - 3s 37ms/step - loss: 0.3846 - accuracy: 0.8965\n",
            "Epoch 83/100\n",
            "77/77 [==============================] - 3s 37ms/step - loss: 0.3715 - accuracy: 0.9025\n",
            "Epoch 84/100\n",
            "77/77 [==============================] - 3s 37ms/step - loss: 0.3724 - accuracy: 0.9023\n",
            "Epoch 85/100\n",
            "77/77 [==============================] - 3s 37ms/step - loss: 0.3691 - accuracy: 0.9023\n",
            "Epoch 86/100\n",
            "77/77 [==============================] - 3s 37ms/step - loss: 0.3767 - accuracy: 0.8977\n",
            "Epoch 87/100\n",
            "77/77 [==============================] - 3s 37ms/step - loss: 0.3735 - accuracy: 0.9004\n",
            "Epoch 88/100\n",
            "77/77 [==============================] - 3s 38ms/step - loss: 0.3690 - accuracy: 0.9010\n",
            "Epoch 89/100\n",
            "77/77 [==============================] - 3s 38ms/step - loss: 0.3627 - accuracy: 0.9053\n",
            "Epoch 90/100\n",
            "77/77 [==============================] - 3s 38ms/step - loss: 0.3655 - accuracy: 0.9028\n",
            "Epoch 91/100\n",
            "77/77 [==============================] - 3s 38ms/step - loss: 0.3675 - accuracy: 0.9018\n",
            "Epoch 92/100\n",
            "77/77 [==============================] - 3s 38ms/step - loss: 0.3658 - accuracy: 0.9033\n",
            "Epoch 93/100\n",
            "77/77 [==============================] - 3s 37ms/step - loss: 0.3691 - accuracy: 0.9011\n",
            "Epoch 94/100\n",
            "77/77 [==============================] - 3s 38ms/step - loss: 0.3666 - accuracy: 0.9012\n",
            "Epoch 95/100\n",
            "77/77 [==============================] - 3s 38ms/step - loss: 0.3680 - accuracy: 0.9003\n",
            "Epoch 96/100\n",
            "77/77 [==============================] - 3s 38ms/step - loss: 0.3594 - accuracy: 0.9027\n",
            "Epoch 97/100\n",
            "77/77 [==============================] - 3s 37ms/step - loss: 0.3583 - accuracy: 0.9028\n",
            "Epoch 98/100\n",
            "77/77 [==============================] - 3s 37ms/step - loss: 0.3586 - accuracy: 0.9041\n",
            "Epoch 99/100\n",
            "77/77 [==============================] - 3s 38ms/step - loss: 0.3585 - accuracy: 0.9045\n",
            "Epoch 100/100\n",
            "77/77 [==============================] - 3s 37ms/step - loss: 0.3551 - accuracy: 0.9058\n"
          ]
        }
      ]
    },
    {
      "cell_type": "code",
      "source": [
        ""
      ],
      "metadata": {
        "id": "XEglP2lerwkL"
      },
      "execution_count": null,
      "outputs": []
    },
    {
      "cell_type": "code",
      "source": [
        "def logits_to_sentence(logits, tokenizer):\n",
        "\n",
        "    index_to_words = {idx: word for word, idx in tokenizer.word_index.items()}\n",
        "    index_to_words[0] = '<empty>' \n",
        "\n",
        "    return ' '.join([index_to_words[prediction] for prediction in np.argmax(\n",
        "        logits, 1)])\n",
        "\n",
        "index = 1000\n",
        "print(\"The english sentence is: {}\".format(english_sentences[index]))\n",
        "print(\"The urdu sentence is: {}\".format(urdu_sentences[index]))\n",
        "print('The predicted sentence is :')\n",
        "print(logits_to_sentence(enc_dec_model.predict(eng_pad_sentence[\n",
        "                                    index:index+1])[0], urd_text_tokenizer))"
      ],
      "metadata": {
        "colab": {
          "base_uri": "https://localhost:8080/"
        },
        "id": "p7LokxFEkSf2",
        "outputId": "838761e2-6bd8-4799-f86c-2aad44edf5f9"
      },
      "execution_count": null,
      "outputs": [
        {
          "output_type": "stream",
          "name": "stdout",
          "text": [
            "The english sentence is: Five years have gone by since my father died.\n",
            "The urdu sentence is: میرے ابو کو فوت ہوئے پانچ سال ہو گئے ہے۔\n",
            "The predicted sentence is :\n",
            "میرے ابو کو گزرے ہوئے پانچ سال ہو گئے ہے۔ <empty> <empty> <empty> <empty> <empty> <empty> <empty> <empty> <empty> <empty> <empty>\n"
          ]
        }
      ]
    },
    {
      "cell_type": "code",
      "source": [
        "input = \"Design thinking is a five step process to come up with meaningful ideas. That solve real problems. For a particular group of people. The process is taught in top design and business schools around the world. It has brought many businesses lots of happy customers.\""
      ],
      "metadata": {
        "id": "4N384eiVq71P"
      },
      "execution_count": null,
      "outputs": []
    },
    {
      "cell_type": "code",
      "source": [
        "\n",
        "input_arr = input.split('.')\n",
        "print(input_arr)\n",
        "\n"
      ],
      "metadata": {
        "colab": {
          "base_uri": "https://localhost:8080/"
        },
        "id": "I7e_v5fjlfvW",
        "outputId": "7d96e0e6-dcf1-451a-8d45-e322b474455d"
      },
      "execution_count": null,
      "outputs": [
        {
          "output_type": "stream",
          "name": "stdout",
          "text": [
            "['Design thinking is a five step process to come up with meaningful ideas', ' That solve real problems', ' For a particular group of people', ' The process is taught in top design and business schools around the world', ' It has brought many businesses lots of happy customers', '']\n"
          ]
        }
      ]
    },
    {
      "cell_type": "code",
      "source": [
        "lent = len(input_arr)\n",
        "for i in range(lent):\n",
        "  index = i\n",
        "  input_sentence_tokenized, input_sentence_tokenizer = tokenize(input_arr)\n",
        "  input_vocab = len(input_sentence_tokenizer.word_index) + 1\n",
        "  max_input_len = int(len(max(input_sentence_tokenized,key=len)))\n",
        "\n",
        "  input_pad_sentence = pad_sequences(input_sentence_tokenized, max_input_len,\n",
        "                                  padding = \"post\")\n",
        "\n",
        "  input_pad_sentence = input_pad_sentence.reshape(*input_pad_sentence.shape, 1)\n",
        "  print(logits_to_sentence(enc_dec_model.predict(input_pad_sentence[\n",
        "                                      index:index+1])[0], urd_text_tokenizer))"
      ],
      "metadata": {
        "colab": {
          "base_uri": "https://localhost:8080/"
        },
        "id": "fGyspiPwpUVC",
        "outputId": "fe6078c7-319b-4430-929e-c34eca8a8dc5"
      },
      "execution_count": null,
      "outputs": [
        {
          "output_type": "stream",
          "name": "stdout",
          "text": [
            "تم اس کو میں سے فرانسیسی کر کر سکتا ہے۔ <empty> <empty> <empty> <empty> <empty> <empty> <empty> <empty> <empty> <empty> <empty>\n",
            "مجھے صرف پوری دفعہ نیں سکتا۔ <empty> <empty> <empty> <empty> <empty> <empty> <empty> <empty> <empty> <empty> <empty> <empty> <empty> <empty> <empty>\n",
            "اس نے فطرت میں کوئی بعد، نظر نہیں نہیں ہے۔ <empty> <empty> <empty> <empty> <empty> <empty> <empty> <empty> <empty> <empty> <empty>\n",
            "میں نے سے میں کو میں کس بھی لیئے سکتا تھا۔ <empty> <empty> <empty> <empty> <empty> <empty> <empty> <empty> <empty> <empty>\n",
            "ہم رات پرانے کو مر رہی ہیں۔ <empty> <empty> <empty> <empty> <empty> <empty> <empty> <empty> <empty> <empty> <empty> <empty> <empty> <empty>\n",
            "ٹام کمزور ہے۔ <empty> <empty> <empty> <empty> <empty> <empty> <empty> <empty> <empty> <empty> <empty> <empty> <empty> <empty> <empty> <empty> <empty> <empty>\n"
          ]
        }
      ]
    }
  ]
}