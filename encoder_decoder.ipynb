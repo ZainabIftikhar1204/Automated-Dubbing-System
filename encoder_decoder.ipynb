{
  "nbformat": 4,
  "nbformat_minor": 0,
  "metadata": {
    "colab": {
      "name": "encoder_decoder.ipynb",
      "provenance": [],
      "collapsed_sections": []
    },
    "kernelspec": {
      "name": "python3",
      "display_name": "Python 3"
    },
    "language_info": {
      "name": "python"
    }
  },
  "cells": [
    {
      "cell_type": "code",
      "source": [
        "import csv\n",
        "\n",
        "tsv_file = open(\"trans.tsv\")\n",
        "txt_file = open(\"trans.txt\", \"w\")\n",
        "\n",
        "read_tsv = csv.reader(tsv_file, delimiter=\"\\t\")\n",
        "\n",
        "for row in read_tsv:\n",
        "  joined_string = \"/t\".join(row)\n",
        "  txt_file.writelines(joined_string+ '\\n')\n",
        "\n",
        "txt_file.close()"
      ],
      "metadata": {
        "id": "zg6_mqLQdwb3"
      },
      "execution_count": null,
      "outputs": []
    },
    {
      "cell_type": "code",
      "source": [
        "#with datafrane\n",
        "import pandas as pd\n",
        "colnames = ['src-tag', 'source', 'tar-tag', 'target']\n",
        "data_df = pd.read_csv('/content/trans.tsv', sep='\\t', names=colnames)\n",
        "\n",
        "data_df = data_df[['source', 'target']]\n",
        "source_sentences = []\n",
        "target_sentences = []\n",
        "\n",
        "for index, row in data_df.iterrows():\n",
        "  src, tar = row[0], row[1]\n",
        "  source_sentences.append(src)\n",
        "  target_sentences.append(tar)\n",
        "#print(source_sentences[0], len(source_sentences))\n",
        "#print(target_sentences[0], len(target_sentences))\n",
        "  \n",
        "\n",
        "  \n"
      ],
      "metadata": {
        "colab": {
          "base_uri": "https://localhost:8080/"
        },
        "id": "Zap6ezEQE6ds",
        "outputId": "cf43362f-214c-4562-9835-fd1a6d4f198d"
      },
      "execution_count": null,
      "outputs": [
        {
          "output_type": "stream",
          "name": "stdout",
          "text": [
            "Let's try something. 1746\n",
            "چلو کچھ نہ کچھ کرنے کی کوشش کرتے ہیں۔ 1746\n"
          ]
        }
      ]
    },
    {
      "cell_type": "code",
      "source": [
        "import re \n",
        "import fileinput\n",
        "\n",
        "with open('trans.tsv', 'r') as f1, open('trans1.txt', 'w') as f2:\n",
        "    f2.write(\"\".join([c for c in f1.read() if not c.isdigit()]))\n",
        "with open('trans1.txt', 'r') as f2, open('trans2.txt', 'w') as f3:\n",
        "    for line in f2:\n",
        "     new_line = (line.replace('\\t', ' '))\n",
        "     f3.write(new_line) \n",
        "f2.close()\n",
        "f3.close()   "
      ],
      "metadata": {
        "id": "rMe_EqR8sANn"
      },
      "execution_count": null,
      "outputs": []
    },
    {
      "cell_type": "code",
      "execution_count": null,
      "metadata": {
        "id": "POzc99LvZNcr"
      },
      "outputs": [],
      "source": [
        "import string\n",
        "import numpy as np\n",
        "\n",
        "from keras.preprocessing.text import Tokenizer\n",
        "from keras.preprocessing.sequence import pad_sequences\n",
        "from keras.models import Model\n",
        "from keras.layers import LSTM, Input, TimeDistributed, Dense, Activation, RepeatVector, Embedding\n",
        "from tensorflow.keras.optimizers import Adam\n",
        "from keras.losses import sparse_categorical_crossentropy\n",
        "\n",
        "# Path to translation file\n",
        "path_to_data = '/content/trans2.txt'\n",
        "\n",
        "# Read file\n",
        "translation_file = open(path_to_data,\"r\", encoding='utf-8') \n",
        "raw_data = translation_file.read()\n",
        "translation_file.close()\n",
        "\n",
        "# Parse data\n",
        "raw_data = raw_data.split('\\n')\n",
        "pairs = [sentence.split('.') for sentence in  raw_data]\n",
        "#pairs_test = pairs[:1000]\n",
        "#pairs_train = pairs[1000:]\n",
        "#pairs = pairs[1000:20000]\n",
        "#print(pairs_test[0][0])\n",
        "#print(pairs_train[0])"
      ]
    },
    {
      "cell_type": "markdown",
      "source": [
        "##Zainab Bongian"
      ],
      "metadata": {
        "id": "_47fr62dEWnj"
      }
    },
    {
      "cell_type": "code",
      "source": [
        ""
      ],
      "metadata": {
        "id": "MBBWijW6EdPA"
      },
      "execution_count": null,
      "outputs": []
    },
    {
      "cell_type": "markdown",
      "source": [
        "##Zainab Bonguan End"
      ],
      "metadata": {
        "id": "sd0nx8p_EZDq"
      }
    },
    {
      "cell_type": "code",
      "source": [
        "def clean_sentence(sentence):\n",
        "    # Lower case the sentence\n",
        "    lower_case_sent = sentence.lower()\n",
        "    # Strip punctuation\n",
        "    string_punctuation = string.punctuation + \"¡\" + '¿'\n",
        "    clean_sentence = lower_case_sent.translate(str.maketrans('', '', \n",
        "                                                        string_punctuation))\n",
        "   \n",
        "    return clean_sentence"
      ],
      "metadata": {
        "id": "UHSIon4rae5n"
      },
      "execution_count": null,
      "outputs": []
    },
    {
      "cell_type": "code",
      "source": [
        "def tokenize(sentences):\n",
        "    # Create tokenizer\n",
        "    text_tokenizer = Tokenizer()\n",
        "    # Fit texts\n",
        "    text_tokenizer.fit_on_texts(sentences)\n",
        "    return text_tokenizer.texts_to_sequences(sentences), text_tokenizer"
      ],
      "metadata": {
        "id": "Z_34z3i-alH1"
      },
      "execution_count": null,
      "outputs": []
    },
    {
      "cell_type": "code",
      "source": [
        "for pair in pairs:\n",
        "  if len(pair)!=2:    \n",
        "    print(pair[0])\n",
        "  else:\n",
        "    print(pair)\n",
        "  break"
      ],
      "metadata": {
        "id": "NiO6hZ5g3mcs",
        "colab": {
          "base_uri": "https://localhost:8080/"
        },
        "outputId": "d4b445cd-b162-4791-c04c-fad2408d8882"
      },
      "execution_count": null,
      "outputs": [
        {
          "output_type": "stream",
          "name": "stdout",
          "text": [
            "[\" You shouldn't say that kind of thing when children are around\", '  آپ کو اس قسم کی باتیں بچوں کے سامنے نہیں کرنی چائیے۔']\n"
          ]
        }
      ]
    },
    {
      "cell_type": "code",
      "source": [
        "print(pair[0])"
      ],
      "metadata": {
        "colab": {
          "base_uri": "https://localhost:8080/"
        },
        "id": "YG43KiIQB-0P",
        "outputId": "9ca27305-0300-452c-b2b3-9830199709cf"
      },
      "execution_count": null,
      "outputs": [
        {
          "output_type": "stream",
          "name": "stdout",
          "text": [
            " You shouldn't say that kind of thing when children are around\n"
          ]
        }
      ]
    },
    {
      "cell_type": "code",
      "source": [
        "# Clean sentences\n",
        "#english_sentences = [clean_sentence(pair) for pair in source_sentences]\n",
        "#urdu_sentences = [clean_sentence(peir) for peir in target_sentences]\n",
        "\n",
        "english_sentences = source_sentences\n",
        "urdu_sentences = target_sentences\n",
        "\n",
        "# Tokenize words\n",
        "urd_text_tokenized, urd_text_tokenizer = tokenize(urdu_sentences)\n",
        "eng_text_tokenized, eng_text_tokenizer = tokenize(english_sentences)\n",
        "\n",
        "print('Maximum length urdu sentence: {}'.format(len(max(urd_text_tokenized,\n",
        "                                                        key=len))))\n",
        "print('Maximum length english sentence: {}'.format(len(max(eng_text_tokenized,\n",
        "                                                           key=len))))\n",
        "\n",
        "\n",
        "# Check language length\n",
        "urdu_vocab = len(urd_text_tokenizer.word_index) + 1\n",
        "english_vocab = len(eng_text_tokenizer.word_index) + 1\n",
        "print(\"urdu vocabulary is of {} unique words\".format(urdu_vocab))\n",
        "print(\"English vocabulary is of {} unique words\".format(english_vocab))\n"
      ],
      "metadata": {
        "colab": {
          "base_uri": "https://localhost:8080/"
        },
        "id": "K00P5WiTao3q",
        "outputId": "eb4f5dd8-5161-4a31-888f-b244c2701ea6"
      },
      "execution_count": null,
      "outputs": [
        {
          "output_type": "stream",
          "name": "stdout",
          "text": [
            "Maximum length urdu sentence: 32\n",
            "Maximum length english sentence: 30\n",
            "urdu vocabulary is of 2409 unique words\n",
            "English vocabulary is of 1881 unique words\n"
          ]
        }
      ]
    },
    {
      "cell_type": "code",
      "source": [
        "max_urdu_len = int(len(max(urd_text_tokenized,key=len)))\n",
        "max_english_len = int(len(max(eng_text_tokenized,key=len)))\n",
        "\n",
        "urd_pad_sentence = pad_sequences(urd_text_tokenized, max_urdu_len,\n",
        "                                 padding = \"post\")\n",
        "eng_pad_sentence = pad_sequences(eng_text_tokenized, max_english_len, \n",
        "                                 padding = \"post\")\n",
        "\n",
        "# Reshape data\n",
        "urd_pad_sentence = urd_pad_sentence.reshape(*urd_pad_sentence.shape, 1)\n",
        "eng_pad_sentence = eng_pad_sentence.reshape(*eng_pad_sentence.shape, 1)"
      ],
      "metadata": {
        "id": "y7JiDwwggok1"
      },
      "execution_count": null,
      "outputs": []
    },
    {
      "cell_type": "code",
      "source": [
        "input_sequence = Input(shape=(max_urdu_len,))\n",
        "embedding = Embedding(input_dim=urdu_vocab, output_dim=128,) (input_sequence)\n",
        "encoder = LSTM(64, return_sequences=False)                   (embedding)\n",
        "r_vec = RepeatVector(max_english_len)                        (encoder)\n",
        "decoder = LSTM(64, return_sequences=True, dropout=0.2)       (r_vec)\n",
        "logits = TimeDistributed(Dense(english_vocab))               (decoder)\n"
      ],
      "metadata": {
        "id": "TCWFJx-WhJRm"
      },
      "execution_count": null,
      "outputs": []
    },
    {
      "cell_type": "code",
      "source": [
        "enc_dec_model = Model(input_sequence, Activation('softmax')  (logits))\n",
        "enc_dec_model.compile(loss=sparse_categorical_crossentropy,\n",
        "              optimizer=Adam(1e-3),\n",
        "              metrics=['accuracy'])\n",
        "enc_dec_model.summary()"
      ],
      "metadata": {
        "colab": {
          "base_uri": "https://localhost:8080/"
        },
        "id": "KKficcyHib8a",
        "outputId": "ac3554e1-0263-4876-c24f-d657b7349c8e"
      },
      "execution_count": null,
      "outputs": [
        {
          "output_type": "stream",
          "name": "stdout",
          "text": [
            "Model: \"model_2\"\n",
            "_________________________________________________________________\n",
            " Layer (type)                Output Shape              Param #   \n",
            "=================================================================\n",
            " input_3 (InputLayer)        [(None, 32)]              0         \n",
            "                                                                 \n",
            " embedding_2 (Embedding)     (None, 32, 128)           308352    \n",
            "                                                                 \n",
            " lstm_4 (LSTM)               (None, 64)                49408     \n",
            "                                                                 \n",
            " repeat_vector_2 (RepeatVect  (None, 30, 64)           0         \n",
            " or)                                                             \n",
            "                                                                 \n",
            " lstm_5 (LSTM)               (None, 30, 64)            33024     \n",
            "                                                                 \n",
            " time_distributed_2 (TimeDis  (None, 30, 1881)         122265    \n",
            " tributed)                                                       \n",
            "                                                                 \n",
            " activation_2 (Activation)   (None, 30, 1881)          0         \n",
            "                                                                 \n",
            "=================================================================\n",
            "Total params: 513,049\n",
            "Trainable params: 513,049\n",
            "Non-trainable params: 0\n",
            "_________________________________________________________________\n"
          ]
        }
      ]
    },
    {
      "cell_type": "code",
      "source": [
        "model_results = enc_dec_model.fit(urd_pad_sentence, \n",
        "                                  eng_pad_sentence, \n",
        "                                  batch_size=15, epochs=1)\n"
      ],
      "metadata": {
        "colab": {
          "base_uri": "https://localhost:8080/"
        },
        "id": "dbmA-USQiixc",
        "outputId": "06c7578b-8b98-4d58-febd-2d275d930589"
      },
      "execution_count": null,
      "outputs": [
        {
          "output_type": "stream",
          "name": "stdout",
          "text": [
            "117/117 [==============================] - 12s 68ms/step - loss: 3.1204 - accuracy: 0.7820\n"
          ]
        }
      ]
    },
    {
      "cell_type": "code",
      "source": [
        ""
      ],
      "metadata": {
        "id": "XEglP2lerwkL"
      },
      "execution_count": null,
      "outputs": []
    },
    {
      "cell_type": "code",
      "source": [
        "def logits_to_sentence(logits, tokenizer):\n",
        "\n",
        "    index_to_words = {idx: word for word, idx in tokenizer.word_index.items()}\n",
        "    index_to_words[0] = '<empty>' \n",
        "\n",
        "    return ' '.join([index_to_words[prediction] for prediction in np.argmax(\n",
        "        logits, 1)])\n",
        "\n",
        "index = 209\n",
        "print(\"The english sentence is: {}\".format(english_sentences[index]))\n",
        "print(\"The urdu sentence is: {}\".format(urdu_sentences[index]))\n",
        "print('The predicted sentence is :')\n",
        "print(logits_to_sentence(enc_dec_model.predict(urd_pad_sentence[\n",
        "                                    index:index+1])[0], eng_text_tokenizer))"
      ],
      "metadata": {
        "colab": {
          "base_uri": "https://localhost:8080/"
        },
        "id": "p7LokxFEkSf2",
        "outputId": "ceb31085-b34d-444a-bb25-6703e55dd0b8"
      },
      "execution_count": null,
      "outputs": [
        {
          "output_type": "stream",
          "name": "stdout",
          "text": [
            "The english sentence is: I bought this TV on the installment plan.\n",
            "The urdu sentence is: میں نے یہ ٹی وی انسٹالمنٹ میں خریدا ہے۔\n",
            "The predicted sentence is :\n",
            "<empty> <empty> <empty> <empty> <empty> <empty> <empty> <empty> <empty> <empty> <empty> <empty> <empty> <empty> <empty> <empty> <empty> <empty> <empty> <empty> <empty> <empty> <empty> <empty> <empty> <empty> <empty> <empty> <empty> <empty>\n"
          ]
        }
      ]
    },
    {
      "cell_type": "code",
      "source": [
        "print(logits_to_sentence(enc_dec_model.predict(urd_pad_sentence[\n",
        "                                    index:index+1])[0], eng_text_tokenizer))"
      ],
      "metadata": {
        "colab": {
          "base_uri": "https://localhost:8080/"
        },
        "id": "rFcLvb1CWjIa",
        "outputId": "a8763b37-9e10-4237-e380-fe1eb02c9226"
      },
      "execution_count": null,
      "outputs": [
        {
          "output_type": "stream",
          "name": "stdout",
          "text": [
            "<empty> <empty> <empty> <empty> <empty> <empty> <empty> <empty> <empty> <empty> <empty> <empty> <empty> <empty> <empty> <empty> <empty> <empty> <empty> <empty> <empty> <empty> <empty> <empty> <empty> <empty> <empty> <empty> <empty> <empty>\n"
          ]
        }
      ]
    },
    {
      "cell_type": "code",
      "source": [
        "input_sentence = 'I bought this TV on the installment plan'\n",
        "def translate(input_sentence):\n",
        "  output_sentence = enc_dec_model(input_sentence, eng_text_tokenizer )\n",
        "  return output_sentence\n",
        "  print(output_sentence)"
      ],
      "metadata": {
        "id": "O7CqRJZpywWq"
      },
      "execution_count": null,
      "outputs": []
    },
    {
      "cell_type": "code",
      "source": [
        "input \n",
        "input_sentence_token, input_text_tokenizer = tokenize(input_sentence)"
      ],
      "metadata": {
        "id": "PiRVfAs7iJx7"
      },
      "execution_count": null,
      "outputs": []
    }
  ]
}